{
 "cells": [
  {
   "cell_type": "code",
   "execution_count": 1,
   "metadata": {
    "pycharm": {
     "is_executing": false
    }
   },
   "outputs": [],
   "source": [
    "import pickle\n",
    "\n",
    "spike_times = pickle.load(open(\"iris_spikes\", 'rb'))\n",
    "\n",
    "from brian2 import *\n",
    "%matplotlib inline"
   ]
  },
  {
   "cell_type": "markdown",
   "metadata": {},
   "source": [
    "#  The documentation for the functions used here\n",
    "https://brian2.readthedocs.io/en/stable/user/input.html#timed-arrays"
   ]
  },
  {
   "cell_type": "code",
   "execution_count": 2,
   "metadata": {},
   "outputs": [
    {
     "data": {
      "text/plain": [
       "<brian2.input.timedarray.TimedArray at 0x7fd6108a5c90>"
      ]
     },
     "execution_count": 2,
     "metadata": {},
     "output_type": "execute_result"
    }
   ],
   "source": [
    "\n",
    "\n",
    "# The documentation says:\n",
    "# TimedArray can take a one-dimensional value array (as above) and therefore return the same value\n",
    "# for all neurons or it can take a two-dimensional array with time as the first and \n",
    "# (neuron/synapse/…-)index as the second dimension.\n",
    "\n",
    "ta = TimedArray(spike_times[0], dt=1*ms)\n",
    "ta"
   ]
  },
  {
   "cell_type": "markdown",
   "metadata": {},
   "source": [
    "# Using the values from the paper and 8 neurons in the input we try to train the first class\n",
    "\n",
    "Using \n",
    "$V_{resting}=-5mV$\n",
    "meaning  vr = -5*mV. Threshold = $1mV$ is vt = 1*mV. $ The potential is V_{reset}=-5mV=$vr = -5*mV. The refractory period $\\tau_{ref}$ is $ref=3ms$. \n",
    "\n",
    "### We need to determine\n",
    "The total incoming current through synapses $I_{syn}(t)$ from the paper"
   ]
  },
  {
   "cell_type": "code",
   "execution_count": 3,
   "metadata": {
    "pycharm": {
     "name": "#%%\n"
    }
   },
   "outputs": [],
   "source": [
    "N = 8\n",
    "ref=3*ms\n",
    "taum = 10*ms\n",
    "taupre = 20*ms\n",
    "taupost = taupre\n",
    "Ee = 0*mV\n",
    "vt = 1*mV\n",
    "vr = -5*mV\n",
    "El = -74*mV\n",
    "taue = 5*ms\n",
    "F = 1000*Hz\n",
    "gmax = .01\n",
    "dApre = .01\n",
    "dApost = -dApre * taupre / taupost * 1.05\n",
    "dApost *= gmax\n",
    "dApre *= gmax"
   ]
  },
  {
   "cell_type": "markdown",
   "metadata": {},
   "source": [
    "# Here we want to define an equivalent form of the equation\n",
    "$\\frac{dV}{dt}=\\frac{-(V(t)-V_{resting})}{\\tau_{m}}+\\frac{I_{sym}(t)}{C_{m}}$ "
   ]
  },
  {
   "cell_type": "code",
   "execution_count": 4,
   "metadata": {},
   "outputs": [],
   "source": [
    "# We neet to moddify this to fit the paper \n",
    "eqs_neurons = '''\n",
    "dv/dt = (ge * (Ee-vr) + El - v) / taum : volt\n",
    "dge/dt = -ge / taue : 1\n",
    "'''"
   ]
  },
  {
   "cell_type": "code",
   "execution_count": 8,
   "metadata": {},
   "outputs": [],
   "source": [
    "input = PoissonGroup(8, rates=F)     # Poisson noise \n",
    "\n",
    "#input =ta                                 # Replace with spike_times for class1"
   ]
  },
  {
   "cell_type": "code",
   "execution_count": 9,
   "metadata": {},
   "outputs": [],
   "source": [
    "neurons = NeuronGroup(1, eqs_neurons, threshold='v>vt', reset='v = vr',\n",
    "                      method='exact', refractory=ref)"
   ]
  },
  {
   "cell_type": "markdown",
   "metadata": {},
   "source": [
    "## Here we define the Spike-Timing Dependent Plasticity\n",
    "\n",
    "In the paper the change is described as:... you know how it looks\n",
    "\n",
    "$ \\Delta w =\n",
    "\\begin{equation}\n",
    "  D_{it} =\n",
    "    \\begin{cases}\n",
    "      -\\alpha \\lambda \\cdot \\exp(-\\frac{t_{pre}-t_{post}}{\\tau_{-}}) & \\text{if $t_{pre}-t_{post}>0$}\\\\\n",
    "      2 & \\text{if bank $i$ issues CBs at time $t$}\\\\\n",
    "      0 & \\text{otherwise}\n",
    "    \\end{cases}       \n",
    "\\end{equation}$"
   ]
  },
  {
   "cell_type": "code",
   "execution_count": 10,
   "metadata": {},
   "outputs": [],
   "source": [
    "S = Synapses(input, neurons,\n",
    "             '''w : 1\n",
    "                dApre/dt = -Apre / taupre : 1 (event-driven)\n",
    "                dApost/dt = -Apost / taupost : 1 (event-driven)''',\n",
    "             on_pre='''ge += w\n",
    "                    Apre += dApre\n",
    "                    w = clip(w + Apost, 0, gmax)''',\n",
    "             on_post='''Apost += dApost\n",
    "                     w = clip(w + Apre, 0, gmax)''',\n",
    "             )"
   ]
  },
  {
   "cell_type": "code",
   "execution_count": 11,
   "metadata": {},
   "outputs": [],
   "source": [
    "S.connect()\n",
    "S.w = 'rand() * gmax'\n",
    "mon = StateMonitor(S, 'w', record=[0, 1])\n",
    "spikemon=SpikeMonitor(neurons)\n",
    "s_mon = SpikeMonitor(input)"
   ]
  },
  {
   "cell_type": "code",
   "execution_count": 12,
   "metadata": {
    "scrolled": true
   },
   "outputs": [],
   "source": [
    "S.w = 'rand() * gmax'\n",
    "mon = StateMonitor(S, 'w', record=[0, 1])\n",
    "spikemon=SpikeMonitor(neurons)\n",
    "s_mon = SpikeMonitor(input)"
   ]
  },
  {
   "cell_type": "code",
   "execution_count": 13,
   "metadata": {},
   "outputs": [
    {
     "name": "stdout",
     "output_type": "stream",
     "text": [
      "Starting simulation at t=0. s for a duration of 6. ms\n",
      "6. ms (100%) simulated in < 1s\n"
     ]
    }
   ],
   "source": [
    "run(6*ms, report='text')"
   ]
  },
  {
   "cell_type": "code",
   "execution_count": 14,
   "metadata": {},
   "outputs": [
    {
     "name": "stderr",
     "output_type": "stream",
     "text": [
      "WARNING    /home/rodrigo/anaconda3/envs/Neuromorphic-projectt/lib/python3.7/site-packages/ipykernel_launcher.py:16: UserWarning: Tight layout not applied. tight_layout cannot make axes height small enough to accommodate all axes decorations\n",
      "  app.launch_new_instance()\n",
      " [py.warnings]\n",
      "WARNING:py.warnings:/home/rodrigo/anaconda3/envs/Neuromorphic-projectt/lib/python3.7/site-packages/ipykernel_launcher.py:16: UserWarning: Tight layout not applied. tight_layout cannot make axes height small enough to accommodate all axes decorations\n",
      "  app.launch_new_instance()\n",
      "\n"
     ]
    },
    {
     "data": {
      "image/png": "[encoded data removed]",
      "text/plain": [
       "<Figure size 432x288 with 5 Axes>"
      ]
     },
     "metadata": {
      "needs_background": "light"
     },
     "output_type": "display_data"
    }
   ],
   "source": [
    "subplot(511)\n",
    "plot(S.w / gmax, '.k')\n",
    "ylabel('Weight / gmax')\n",
    "xlabel('Synapse index')\n",
    "subplot(512)\n",
    "hist(S.w / gmax, 20)\n",
    "xlabel('Weight / gmax')\n",
    "subplot(513)\n",
    "plot(mon.t/second, mon.w.T/gmax)\n",
    "xlabel('Time (s)')\n",
    "ylabel('Weight / gmax')\n",
    "subplot(514)\n",
    "plot(s_mon.t/ms, s_mon.i, '.k', ms=3)\n",
    "subplot(515)\n",
    "plot(spikemon.t/ms, spikemon.i, '.k', ms=3)\n",
    "tight_layout()\n",
    "show()"
   ]
  },
  {
   "cell_type": "code",
   "execution_count": null,
   "metadata": {},
   "outputs": [],
   "source": []
  },
  {
   "cell_type": "code",
   "execution_count": null,
   "metadata": {},
   "outputs": [],
   "source": []
  }
 ],
 "metadata": {
  "kernelspec": {
   "display_name": "Python 3",
   "language": "python",
   "name": "python3"
  },
  "language_info": {
   "codemirror_mode": {
    "name": "ipython",
    "version": 3
   },
   "file_extension": ".py",
   "mimetype": "text/x-python",
   "name": "python",
   "nbconvert_exporter": "python",
   "pygments_lexer": "ipython3",
   "version": "3.7.5"
  },
  "pycharm": {
   "stem_cell": {
    "cell_type": "raw",
    "metadata": {
     "collapsed": false
    },
    "source": []
   }
  }
 },
 "nbformat": 4,
 "nbformat_minor": 1
}
