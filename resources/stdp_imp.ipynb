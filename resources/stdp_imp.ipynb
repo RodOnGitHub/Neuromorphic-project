{
 "cells": [
  {
   "cell_type": "code",
   "execution_count": 4,
   "metadata": {},
   "outputs": [],
   "source": [
    "%matplotlib inline\n",
    "import numpy as np\n",
    "import nengo\n",
    "import tensorflow as tf\n",
    "import matplotlib.pyplot as plt\n",
    "import pandas as pd"
   ]
  },
  {
   "cell_type": "code",
   "execution_count": 5,
   "metadata": {},
   "outputs": [
    {
     "data": {
      "image/png": "[encoded data removed]",
      "text/plain": [
       "<Figure size 432x288 with 1 Axes>"
      ]
     },
     "metadata": {},
     "output_type": "display_data"
    },
    {
     "data": {
      "image/png": "[encoded data removed]",
      "text/plain": [
       "<Figure size 432x288 with 1 Axes>"
      ]
     },
     "metadata": {},
     "output_type": "display_data"
    },
    {
     "data": {
      "image/png": "[encoded data removed]",
      "text/plain": [
       "<Figure size 432x288 with 1 Axes>"
      ]
     },
     "metadata": {},
     "output_type": "display_data"
    }
   ],
   "source": [
    "# load MINIST dataset\n",
    "(train_images, train_labels), (test_images, test_labels) = (tf.keras.datasets.mnist.load_data())\n",
    "\n",
    "# flatten images\n",
    "train_images = train_images.reshape((train_images.shape[0], -1))\n",
    "test_images = test_images.reshape((test_images.shape[0], -1))\n",
    "\n",
    "for i in range(3):\n",
    "    plt.figure()\n",
    "    plt.imshow(np.reshape(train_images[i], (28, 28)),\n",
    "               cmap=\"gray\")\n",
    "    plt.axis('off')\n",
    "    plt.title(str(train_labels[i]));"
   ]
  },
  {
   "cell_type": "code",
   "execution_count": null,
   "metadata": {},
   "outputs": [],
   "source": [
    "# gaussian receptive field to encode input \n",
    "#  encoding time interval = spike_time_ms in https://www.sciencedirect.com/science/article/pii/S0925231214005785 2.2\n",
    "# Number of gaussian receptors \"number_neurons\"\n",
    "# Parameter from gaussian curve sigma\n",
    "# Min and max value from data to encode  \"min_value\" and \"max_value\"\n",
    "def receptive_field(number_neurons, sigma, min_value, max_value, value_to_encode, spike_time_ms):\n",
    "    number_n_fields = number_neurons\n",
    "    bins = value_to_encode\n",
    "    Gauss_centers = np.arange(min_value, max_value,\n",
    "                              np.divide(np.abs(np.array(max_value) - (min_value)), number_n_fields)).tolist()\n",
    "    r = []\n",
    "    for i in Gauss_centers:\n",
    "        r.append(1 / (sigma * np.sqrt(2 * np.pi)) * np.exp(- (bins - i) ** 2 / (2 * sigma ** 2)))\n",
    "    spike_time = pd.DataFrame([-spike_time_ms * r[i] + 10 for i in range(8)])\n",
    "    spike_time[spike_time >= 9] = 'Silent'\n",
    "    return r, spike_time  # Return values and a dataframe with the data"
   ]
  },
  {
   "cell_type": "code",
   "execution_count": null,
   "metadata": {},
   "outputs": [],
   "source": [
    "# define learning function (deltaOmega)\n",
    "def deltaOmega(t_pre,t_post,alpha = 0.85,Lambda = 0.03):\n",
    "    tau_plus = 0.0168 # 16.8 ms\n",
    "    tau_minus = 0.0337 # 33.7 ms\n",
    "    \n",
    "    if t_pre-t_post>0:\n",
    "        deltaomega = -alpha*Lambda*np.exp((t_post-t_pre)/tau_minus)\n",
    "    elif t_pre-t_post<0:\n",
    "        deltaomega = Lambda*np.exp((t_pre-t_post)/tau_plus)\n",
    "        \n",
    "    return deltaomega\n",
    "    "
   ]
  },
  {
   "cell_type": "code",
   "execution_count": null,
   "metadata": {},
   "outputs": [],
   "source": [
    "# define plasticity rule (when to update deltaOmega)"
   ]
  },
  {
   "cell_type": "code",
   "execution_count": null,
   "metadata": {},
   "outputs": [],
   "source": [
    "# define the network: input, m(m=10, number of classes) neuron ensembles(n=20 etc)\n",
    "\n",
    "with nengo.Network(seed=0) as net:\n",
    "    # default parameter of the neuron: type LIF; other parameters in the paper; tbd (or define later in the ensembles)\n",
    "    # neuron_type = nengo.LIF(amplitude=0.001) # Vth = 1 mV\n",
    "\n",
    "    # the input node that will be used to feed in input images\n",
    "    inp = nengo.Node(np.zeros(28 * 28))\n",
    "\n",
    "    neuron_ensembles = []\n",
    "    for i in range(10):\n",
    "        neuron_ensembles.append(nengo.Ensemble(n_neuron=20,dimensions=1),\n",
    "                                neuron_type=nengo.LIF(tau_rc=0.02, tau_ref=0.002))\n",
    "        \n",
    "    input_connections = []\n",
    "    for i in range(10):\n",
    "        input_connections.append(nengo.Connection(inp,neuron_ensembles[i]))\n",
    "    \n",
    "    # implement the learning rule\n",
    "    # gaussian receptive field decides t_pre\n",
    "    # dV/dt decides t_post\n",
    "    \n",
    "    # implement the plasticity rule\n",
    "    # update w after t_post happens? tbd\n",
    "\n",
    "    # readout: detect the first firing neuron ensembles and return its class\n",
    "    # maybe use the probe to test the interneurons and return the required value ? tbd\n",
    "    out = nengo.Ensemble(n_neurons=50, dimensions=1)\n",
    "\n",
    "    "
   ]
  },
  {
   "cell_type": "code",
   "execution_count": null,
   "metadata": {},
   "outputs": [],
   "source": [
    "# evaluation: nengo.sim"
   ]
  },
  {
   "cell_type": "code",
   "execution_count": null,
   "metadata": {},
   "outputs": [],
   "source": [
    "# implementation to Loihi?"
   ]
  }
 ],
 "metadata": {
  "kernelspec": {
   "display_name": "Python 3",
   "language": "python",
   "name": "python3"
  },
  "language_info": {
   "codemirror_mode": {
    "name": "ipython",
    "version": 3
   },
   "file_extension": ".py",
   "mimetype": "text/x-python",
   "name": "python",
   "nbconvert_exporter": "python",
   "pygments_lexer": "ipython3",
   "version": "3.6.5"
  },
  "varInspector": {
   "cols": {
    "lenName": 16,
    "lenType": 16,
    "lenVar": 40
   },
   "kernels_config": {
    "python": {
     "delete_cmd_postfix": "",
     "delete_cmd_prefix": "del ",
     "library": "var_list.py",
     "varRefreshCmd": "print(var_dic_list())"
    },
    "r": {
     "delete_cmd_postfix": ") ",
     "delete_cmd_prefix": "rm(",
     "library": "var_list.r",
     "varRefreshCmd": "cat(var_dic_list()) "
    }
   },
   "types_to_exclude": [
    "module",
    "function",
    "builtin_function_or_method",
    "instance",
    "_Feature"
   ],
   "window_display": false
  }
 },
 "nbformat": 4,
 "nbformat_minor": 2
}
